{
 "cells": [
  {
   "cell_type": "code",
   "execution_count": null,
   "id": "69bfadd2",
   "metadata": {},
   "outputs": [],
   "source": [
    "#https://practice.geeksforgeeks.org/problems/sort-an-array-of-0s-1s-and-2s4231/1?utm_source=geeksforgeeks&utm_medium=article_practice_tab&utm_campaign=article_practice_tab\n",
    "#sort an array of 0's, 1's and 2's assignment\n",
    "#SDEV 220\n",
    "#Kent Beeny\n",
    "#User function Template for python3\n",
    "\n",
    "class Solution: \n",
    "    \n",
    "    def __init__(self, array):###\n",
    "        self.theArray = array###\n",
    "        self.arrayLength = len(array)###\n",
    "    \n",
    "    def sort012(self,arr,n):\n",
    "        # code here\n",
    "        start = 0\n",
    "        end = n-1\n",
    "        counter = 0\n",
    "        \n",
    "        while counter <= end:\n",
    "            if arr[counter] == 0:\n",
    "                arr[counter], arr[start] = arr[start], arr[counter]\n",
    "                counter += 1\n",
    "                start += 1\n",
    "            elif arr[counter]==1:\n",
    "                counter += 1\n",
    "            else:\n",
    "                arr[counter], arr[end] = arr[end], arr[counter]\n",
    "                end -= 1\n",
    "        print(arr)####\n",
    "\n",
    "test = Solution([0,2,1,2,1,0, 2])\n",
    "test.sort012(test.theArray, test.arrayLength)\n",
    "\n",
    "#I added an __init__ and tested that the sort worked correctly"
   ]
  },
  {
   "cell_type": "code",
   "execution_count": 48,
   "id": "171e2db3",
   "metadata": {},
   "outputs": [
    {
     "name": "stdout",
     "output_type": "stream",
     "text": [
      "The integer 10 is located at index 10. (the first index is index 0)\n"
     ]
    }
   ],
   "source": [
    "#User function template for Python\n",
    "#Given a sorted array of:\n",
    "#size N \n",
    "#and an integer K, \n",
    "#find the position(0-based indexing) at which K is present in the array using binary search.\n",
    "\n",
    "#SDEV 220\n",
    "#Kent Beeny\n",
    "#User function template for Python\n",
    "import math\n",
    "class Solution:\t\n",
    "    \n",
    "    #I added an __init__ to test that the sort works\n",
    "    def __init__(self, array, finding):\n",
    "        self.theArray = array###\n",
    "        self.arrayLength = len(array)###\n",
    "        self.k = finding\n",
    "    \n",
    "    def binarysearch(self, arr, n, k):\n",
    "        # code here\n",
    "        start = 0\n",
    "        end = n-1\n",
    "        #keep 'pointer' an an int using floor division so we can index properly through an array with odd number of indexes\n",
    "        pointer = end//2 \n",
    "        #set 'check' to an arbitrarily low number I know will not be in the array\n",
    "        check = -9999999999999999999999999999999999999999999 \n",
    "        while check != k:\n",
    "            if arr[pointer] == k:\n",
    "                check = k\n",
    "                \n",
    "            elif arr[pointer] < k:\n",
    "                start = pointer\n",
    "                #convert 'pointer' to an int so we can index properly through an array with odd number of indexes\n",
    "                #rounding up\n",
    "                pointer = math.ceil((end - start)/2 + start)    \n",
    "                      \n",
    "            elif arr[pointer > k]:\n",
    "                end = pointer\n",
    "                #convert 'pointer' to an int so we can index properly through an array with odd number of indexes\n",
    "                #rounding down\n",
    "                pointer = (end - start)//2\n",
    "        \n",
    "        #print where we found it\n",
    "        print(\"The integer \" + str(k) + \" is located at index \" + str(pointer) +\". (the first index is index 0)\")\n",
    "\n",
    "testArray = [0,1,2,3,4,5,6,7,8,9,10]\n",
    "test = Solution(testArray, 10)\n",
    "test.binarysearch(test.theArray, test.arrayLength, test.k)"
   ]
  }
 ],
 "metadata": {
  "kernelspec": {
   "display_name": "Python 3 (ipykernel)",
   "language": "python",
   "name": "python3"
  },
  "language_info": {
   "codemirror_mode": {
    "name": "ipython",
    "version": 3
   },
   "file_extension": ".py",
   "mimetype": "text/x-python",
   "name": "python",
   "nbconvert_exporter": "python",
   "pygments_lexer": "ipython3",
   "version": "3.11.5"
  }
 },
 "nbformat": 4,
 "nbformat_minor": 5
}
